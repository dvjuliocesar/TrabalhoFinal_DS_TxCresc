{
 "cells": [
  {
   "cell_type": "code",
   "execution_count": 1,
   "id": "9d07e278",
   "metadata": {},
   "outputs": [],
   "source": [
    "# === BIBLIOTECAS NECESSÁRIAS ===\n",
    "# Manipulação de dados e cálculos numéricos\n",
    "import pandas as pd \n",
    "import numpy as np  \n",
    "# Visualização estática (gráficos tradicionais)\n",
    "import matplotlib.pyplot as plt \n",
    "import seaborn as sns            \n",
    "# Manipulação de datas\n",
    "from datetime import datetime  \n",
    "# Visualização interativa e dinâmica\n",
    "import plotly.express as px     \n",
    "import plotly.graph_objects as go \n",
    "from plotly.subplots import make_subplots \n",
    "# Manipulação de arquivos e sistemas\n",
    "import glob\n",
    "import os  \n",
    "# Expressões regulares\n",
    "import re "
   ]
  }
 ],
 "metadata": {
  "kernelspec": {
   "display_name": ".venv (3.12.10)",
   "language": "python",
   "name": "python3"
  },
  "language_info": {
   "codemirror_mode": {
    "name": "ipython",
    "version": 3
   },
   "file_extension": ".py",
   "mimetype": "text/x-python",
   "name": "python",
   "nbconvert_exporter": "python",
   "pygments_lexer": "ipython3",
   "version": "3.12.10"
  }
 },
 "nbformat": 4,
 "nbformat_minor": 5
}
