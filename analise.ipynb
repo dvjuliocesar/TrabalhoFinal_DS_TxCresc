{
 "cells": [
  {
   "cell_type": "code",
   "execution_count": 2,
   "id": "9d07e278",
   "metadata": {},
   "outputs": [],
   "source": [
    "# === BIBLIOTECAS NECESSÁRIAS ===\n",
    "# Manipulação de dados e cálculos numéricos\n",
    "import pandas as pd \n",
    "import numpy as np  \n",
    "# Visualização estática (gráficos tradicionais)\n",
    "import matplotlib.pyplot as plt \n",
    "import seaborn as sns            \n",
    "# Manipulação de datas\n",
    "from datetime import datetime  \n",
    "# Visualização interativa e dinâmica\n",
    "import plotly.express as px     \n",
    "import plotly.graph_objects as go \n",
    "from plotly.subplots import make_subplots \n",
    "# Manipulação de arquivos e sistemas\n",
    "import glob\n",
    "import os  \n",
    "# Expressões regulares\n",
    "import re "
   ]
  },
  {
   "cell_type": "code",
   "execution_count": 3,
   "id": "06a0dd83",
   "metadata": {},
   "outputs": [
    {
     "name": "stdout",
     "output_type": "stream",
     "text": [
      "\n",
      "=== Arquivo carregado com sucesso! ===\n",
      "Dimensões (linhas, colunas): (4944351, 11)\n"
     ]
    }
   ],
   "source": [
    "# 1) Carregar e concatenar os dados dos processos judiciais da pasta uploads\n",
    "# Exibição no console\n",
    "pd.set_option('display.max_columns', None)\n",
    "pd.set_option('display.width', 1000)\n",
    "pd.set_option('display.max_rows', 200)\n",
    "\n",
    "# Listar os arquivos CSV na pasta 'uploads'\n",
    "arquivos_csv = glob.glob('uploads/processos_*.csv')\n",
    "\n",
    "# Carregar os arquivos CSV e concatenar em um único DataFrame\n",
    "dfs = []\n",
    "for arquivo in arquivos_csv:\n",
    "    # Extrair o ano do nome do arquivo\n",
    "    ano = int(arquivo.split('_')[-1].split('.')[0])\n",
    "    df_ano = pd.read_csv(arquivo, sep=',', encoding='utf-8')\n",
    "    df_ano['ano_arquivo'] = ano  # Adicionar coluna com o ano do arquivo\n",
    "    dfs.append(df_ano)\n",
    "\n",
    "print(\"\\n=== Arquivo carregado com sucesso! ===\")\n",
    "df_juridico = pd.concat(dfs, ignore_index=True)\n",
    "print(\"Dimensões (linhas, colunas):\", df_juridico.shape)\n",
    "\n",
    "# Guardar uma cópia de trabalho\n",
    "df = df_juridico.copy()"
   ]
  },
  {
   "cell_type": "code",
   "execution_count": null,
   "id": "2f6549e9",
   "metadata": {},
   "outputs": [
    {
     "name": "stdout",
     "output_type": "stream",
     "text": [
      "\n",
      "=== Validação de Registros de OAB ===\n",
      "Total de registros com OAB em formato inválido ou nulo: 20335\n",
      "Exemplos de OABs inválidas: ['GO' '0A RJ' '0A MT' '0S GO' '0A MG' '0S MT' '0S DF' '0S MA' '0A PE' 'TO'\n",
      " '0A MS' '0S AL' '0S CE' '0S SC' '0S MG' '0S MS' '0S RS' '0S RN' '0A TO'\n",
      " '0A SE' '0S PE' '0A RS' '0S TO']\n"
     ]
    }
   ],
   "source": [
    "# 2) Tratamento dos Dados para Advogados\n",
    "# Tratamento das colunas\n",
    "df['data_distribuicao'] = pd.to_datetime(df['data_distribuicao'], errors='coerce')\n",
    "df['ano_distribuicao'] = df['data_distribuicao'].dt.year # Criar coluna de ano de distribuição\n",
    "df['is_segredo_justica'] = df['is_segredo_justica'].astype(bool)\n",
    "\n",
    "# Tratamento dos números de OAB\n",
    "def is_oab_valida(oab):\n",
    "    \"\"\"\n",
    "    Verifica se um número de OAB é válido seguindo o formato:\n",
    "    NÚMEROS + LETRA + ESPAÇO + UF. Ex: '2153421N GO'\n",
    "    \"\"\"\n",
    "    if not isinstance(oab, str) or not oab.strip():\n",
    "        return False\n",
    "    oab_limpa = oab.upper().strip()\n",
    "    ufs_validas = ['GO', 'DF', 'SP', 'RJ', 'MG', 'RS', 'SC', 'PR', 'BA', 'PE',\n",
    "                  'CE', 'MA', 'ES', 'AL', 'SE', 'PB', 'RN', 'PI', 'MT', 'MS', \n",
    "                  'TO', 'PA', 'AP', 'AM', 'RR', 'AC', 'RO'\n",
    "                  ]\n",
    "    padrao_regex = re.compile(f\"^[1-9]\\\\d*[A-Z]\\\\s({'|'.join(ufs_validas)})$\")\n",
    "    return bool(padrao_regex.match(oab_limpa))\n",
    "\n",
    "# Aplicar a validação de OAB\n",
    "df['oab_valida'] = df['oab'].apply(is_oab_valida)\n",
    "\n",
    "# Contar e exibir a quantidade de OABs inválidas\n",
    "registros_invalidos = df[df['oab_valida'] == False]\n",
    "qtd_invalidos = len(registros_invalidos)\n",
    "\n",
    "print(\"\\n=== Validação de Registros de OAB ===\")\n",
    "print(f\"Total de registros com OAB em formato inválido ou nulo: {qtd_invalidos}\")\n",
    "\n",
    "if qtd_invalidos > 0:\n",
    "    exemplos_invalidos = registros_invalidos['oab'].unique()\n",
    "    print(f\"Exemplos de OABs inválidas: {exemplos_invalidos}\")\n",
    "\n",
    "# Dataframe com apenas OABs válidas\n",
    "df_validos = df[df['oab_valida'] == True].copy()"
   ]
  },
  {
   "cell_type": "code",
   "execution_count": null,
   "id": "4c633a5c",
   "metadata": {},
   "outputs": [],
   "source": []
  }
 ],
 "metadata": {
  "kernelspec": {
   "display_name": ".venv (3.12.10)",
   "language": "python",
   "name": "python3"
  },
  "language_info": {
   "codemirror_mode": {
    "name": "ipython",
    "version": 3
   },
   "file_extension": ".py",
   "mimetype": "text/x-python",
   "name": "python",
   "nbconvert_exporter": "python",
   "pygments_lexer": "ipython3",
   "version": "3.12.10"
  }
 },
 "nbformat": 4,
 "nbformat_minor": 5
}
