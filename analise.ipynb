{
 "cells": [
  {
   "cell_type": "code",
   "execution_count": 2,
   "id": "9d07e278",
   "metadata": {},
   "outputs": [],
   "source": [
    "# === BIBLIOTECAS NECESSÁRIAS ===\n",
    "# Manipulação de dados e cálculos numéricos\n",
    "import pandas as pd \n",
    "import numpy as np  \n",
    "# Visualização estática (gráficos tradicionais)\n",
    "import matplotlib.pyplot as plt \n",
    "import seaborn as sns            \n",
    "# Manipulação de datas\n",
    "from datetime import datetime  \n",
    "# Visualização interativa e dinâmica\n",
    "import plotly.express as px     \n",
    "import plotly.graph_objects as go \n",
    "from plotly.subplots import make_subplots \n",
    "# Manipulação de arquivos e sistemas\n",
    "import glob\n",
    "import os  \n",
    "# Expressões regulares\n",
    "import re "
   ]
  },
  {
   "cell_type": "code",
   "execution_count": 3,
   "id": "06a0dd83",
   "metadata": {},
   "outputs": [
    {
     "name": "stdout",
     "output_type": "stream",
     "text": [
      "\n",
      "=== Arquivo carregado com sucesso! ===\n",
      "Dimensões (linhas, colunas): (4944351, 11)\n"
     ]
    }
   ],
   "source": [
    "# 1) Carregar e concatenar os dados dos processos judiciais da pasta uploads\n",
    "# Exibição no console\n",
    "pd.set_option('display.max_columns', None)\n",
    "pd.set_option('display.width', 1000)\n",
    "pd.set_option('display.max_rows', 200)\n",
    "\n",
    "# Listar os arquivos CSV na pasta 'uploads'\n",
    "arquivos_csv = glob.glob('uploads/processos_*.csv')\n",
    "\n",
    "# Carregar os arquivos CSV e concatenar em um único DataFrame\n",
    "dfs = []\n",
    "for arquivo in arquivos_csv:\n",
    "    # Extrair o ano do nome do arquivo\n",
    "    ano = int(arquivo.split('_')[-1].split('.')[0])\n",
    "    df_ano = pd.read_csv(arquivo, sep=',', encoding='utf-8')\n",
    "    df_ano['ano_arquivo'] = ano  # Adicionar coluna com o ano do arquivo\n",
    "    dfs.append(df_ano)\n",
    "\n",
    "print(\"\\n=== Arquivo carregado com sucesso! ===\")\n",
    "df_juridico = pd.concat(dfs, ignore_index=True)\n",
    "print(\"Dimensões (linhas, colunas):\", df_juridico.shape)\n",
    "\n",
    "# Guardar uma cópia de trabalho\n",
    "df = df_juridico.copy()"
   ]
  }
 ],
 "metadata": {
  "kernelspec": {
   "display_name": ".venv (3.12.10)",
   "language": "python",
   "name": "python3"
  },
  "language_info": {
   "codemirror_mode": {
    "name": "ipython",
    "version": 3
   },
   "file_extension": ".py",
   "mimetype": "text/x-python",
   "name": "python",
   "nbconvert_exporter": "python",
   "pygments_lexer": "ipython3",
   "version": "3.12.10"
  }
 },
 "nbformat": 4,
 "nbformat_minor": 5
}
